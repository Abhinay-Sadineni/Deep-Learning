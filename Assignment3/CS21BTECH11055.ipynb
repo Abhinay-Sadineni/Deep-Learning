{
  "cells": [
    {
      "cell_type": "markdown",
      "metadata": {},
      "source": [
        "## Assignment 3 AI5100\n",
        "Name : SADINENI ABHINAY\n",
        "\n",
        "Roll NO: CS21BTECH11055"
      ]
    },
    {
      "cell_type": "code",
      "execution_count": 1,
      "metadata": {
        "id": "th_i_G7vvy86"
      },
      "outputs": [],
      "source": [
        "import torch\n",
        "import torch.nn as nn\n",
        "import torch.nn.functional as F\n",
        "import matplotlib.pyplot as plt\n",
        "import torch.optim as optim\n",
        "\n",
        "#importing these libaraies (for dataset download only) didn't use anywhere else\n",
        "import torchvision\n",
        "import torchvision.transforms as transforms"
      ]
    },
    {
      "cell_type": "code",
      "execution_count": 2,
      "metadata": {
        "colab": {
          "base_uri": "https://localhost:8080/"
        },
        "id": "ju1TmxjHvy88",
        "outputId": "c446ea9e-2cac-4cf0-baae-b6d7c7672bcb"
      },
      "outputs": [],
      "source": [
        "if(torch.cuda.is_available()): torch.cuda.empty_cache()\n",
        "\n",
        "torch.manual_seed(42)\n",
        "\n",
        "if torch.cuda.is_available():\n",
        "    torch.cuda.manual_seed_all(42)"
      ]
    },
    {
      "cell_type": "markdown",
      "metadata": {},
      "source": [
        "### DataSet Download "
      ]
    },
    {
      "cell_type": "code",
      "execution_count": 3,
      "metadata": {},
      "outputs": [
        {
          "name": "stdout",
          "output_type": "stream",
          "text": [
            "Files already downloaded and verified\n",
            "Files already downloaded and verified\n",
            "50000\n"
          ]
        }
      ],
      "source": [
        "#Used  PY torch tutorials(official) Normalization values \n",
        "transform = transforms.Compose([\n",
        "    transforms.ToTensor(),\n",
        "    transforms.Normalize((0.5, 0.5, 0.5), (0.5,0.5,0.5))  \n",
        "])\n",
        "\n",
        "# Load CIFAR-10 training dataset\n",
        "trainset = torchvision.datasets.CIFAR10(root='./data', train=True, download=True, transform=transform)\n",
        "train_loader = torch.utils.data.DataLoader(trainset, batch_size=128, shuffle=True, num_workers=2)\n",
        "\n",
        "# Load CIFAR-10 test dataset\n",
        "testset = torchvision.datasets.CIFAR10(root='./data', train=False, download=True, transform=transform)\n",
        "test_loader = torch.utils.data.DataLoader(testset, batch_size=128, shuffle=False, num_workers=2)\n",
        "\n",
        "print(len(train_loader.dataset))  # Number of batches in training set"
      ]
    },
    {
      "cell_type": "code",
      "execution_count": 4,
      "metadata": {},
      "outputs": [],
      "source": [
        "def evaluate(model , test_loader):\n",
        "    # Evaluate the model on the test set\n",
        "    correct = 0\n",
        "    total = 0\n",
        "    with torch.no_grad():\n",
        "        for data in test_loader:\n",
        "            inputs, labels = data[0].to(device), data[1].to(device)\n",
        "            outputs = model(inputs)\n",
        "            predicted = torch.argmax(outputs.data, dim=1)  \n",
        "            total += labels.size(0)\n",
        "            print(labels.size())\n",
        "            correct += (predicted.squeeze() == labels).sum().item()  \n",
        "    accuracy = (correct / total) * 100\n",
        "    print('Accuracy on the test dataset: %.2f %%' % accuracy)\n",
        "    return accuracy"
      ]
    },
    {
      "cell_type": "code",
      "execution_count": 17,
      "metadata": {},
      "outputs": [
        {
          "name": "stdout",
          "output_type": "stream",
          "text": [
            "torch.Size([128, 3, 32, 32])\n",
            "torch.Size([128, 3, 32, 32])\n",
            "torch.Size([128, 3, 32, 32])\n",
            "torch.Size([128, 3, 32, 32])\n",
            "torch.Size([128, 3, 32, 32])\n",
            "torch.Size([128, 3, 32, 32])\n",
            "torch.Size([128, 3, 32, 32])\n",
            "torch.Size([128, 3, 32, 32])\n",
            "torch.Size([128, 3, 32, 32])\n",
            "torch.Size([128, 3, 32, 32])\n",
            "torch.Size([128, 3, 32, 32])\n",
            "torch.Size([128, 3, 32, 32])\n",
            "torch.Size([128, 3, 32, 32])\n",
            "torch.Size([128, 3, 32, 32])\n",
            "torch.Size([128, 3, 32, 32])\n",
            "torch.Size([128, 3, 32, 32])\n",
            "torch.Size([128, 3, 32, 32])\n",
            "torch.Size([128, 3, 32, 32])\n",
            "torch.Size([128, 3, 32, 32])\n",
            "torch.Size([128, 3, 32, 32])\n",
            "torch.Size([128, 3, 32, 32])\n",
            "torch.Size([128, 3, 32, 32])\n",
            "torch.Size([128, 3, 32, 32])\n",
            "torch.Size([128, 3, 32, 32])\n",
            "torch.Size([128, 3, 32, 32])\n",
            "torch.Size([128, 3, 32, 32])\n",
            "torch.Size([128, 3, 32, 32])\n",
            "torch.Size([128, 3, 32, 32])\n",
            "torch.Size([128, 3, 32, 32])\n",
            "torch.Size([128, 3, 32, 32])\n",
            "torch.Size([128, 3, 32, 32])\n",
            "torch.Size([128, 3, 32, 32])\n",
            "torch.Size([128, 3, 32, 32])\n",
            "torch.Size([128, 3, 32, 32])\n",
            "torch.Size([128, 3, 32, 32])\n",
            "torch.Size([128, 3, 32, 32])\n",
            "torch.Size([128, 3, 32, 32])\n",
            "torch.Size([128, 3, 32, 32])\n",
            "torch.Size([128, 3, 32, 32])\n",
            "torch.Size([128, 3, 32, 32])\n",
            "torch.Size([128, 3, 32, 32])\n",
            "torch.Size([128, 3, 32, 32])\n",
            "torch.Size([128, 3, 32, 32])\n",
            "torch.Size([128, 3, 32, 32])\n",
            "torch.Size([128, 3, 32, 32])\n",
            "torch.Size([128, 3, 32, 32])\n",
            "torch.Size([128, 3, 32, 32])\n",
            "torch.Size([128, 3, 32, 32])\n",
            "torch.Size([128, 3, 32, 32])\n",
            "torch.Size([128, 3, 32, 32])\n",
            "torch.Size([128, 3, 32, 32])\n",
            "torch.Size([128, 3, 32, 32])\n",
            "torch.Size([128, 3, 32, 32])\n",
            "torch.Size([128, 3, 32, 32])\n",
            "torch.Size([128, 3, 32, 32])\n",
            "torch.Size([128, 3, 32, 32])\n",
            "torch.Size([128, 3, 32, 32])\n",
            "torch.Size([128, 3, 32, 32])\n",
            "torch.Size([128, 3, 32, 32])\n",
            "torch.Size([128, 3, 32, 32])\n",
            "torch.Size([128, 3, 32, 32])\n",
            "torch.Size([128, 3, 32, 32])\n",
            "torch.Size([128, 3, 32, 32])\n",
            "torch.Size([128, 3, 32, 32])\n",
            "torch.Size([128, 3, 32, 32])\n",
            "torch.Size([128, 3, 32, 32])\n",
            "torch.Size([128, 3, 32, 32])\n",
            "torch.Size([128, 3, 32, 32])\n",
            "torch.Size([128, 3, 32, 32])\n",
            "torch.Size([128, 3, 32, 32])\n",
            "torch.Size([128, 3, 32, 32])\n",
            "torch.Size([128, 3, 32, 32])\n",
            "torch.Size([128, 3, 32, 32])\n",
            "torch.Size([128, 3, 32, 32])\n",
            "torch.Size([128, 3, 32, 32])\n",
            "torch.Size([128, 3, 32, 32])\n",
            "torch.Size([128, 3, 32, 32])\n",
            "torch.Size([128, 3, 32, 32])\n",
            "torch.Size([16, 3, 32, 32])\n"
          ]
        }
      ],
      "source": [
        "for data in test_loader:\n",
        "    print(data[0].size())"
      ]
    },
    {
      "cell_type": "markdown",
      "metadata": {
        "id": "hQ8wTG3lvy88"
      },
      "source": [
        "## 1. Object Recognition using CNN and self attention layers\n",
        "Consider Image , and pass it thorught Convolution layer we will get CxHxW activation map\n"
      ]
    },
    {
      "cell_type": "markdown",
      "metadata": {},
      "source": [
        "Inside a Self attention layer:\n",
        "* Here each we are giving an input of HxW elements with each element of C dimension\n",
        "* Then do a 1x1 convolution with three different set of W<sub>q</sub> W<sub>k</sub> W<sub>v</sub> to get queries , keys , values\n",
        "* Let Q , K , V be query , key , value vectors with dimensions C'xHxW\n",
        "* now calculate self attention vector : softmax(QK^T)V\n",
        "* now do 1x1 convolution and convert this attention to CxHxW and add to original activation map and return the output"
      ]
    },
    {
      "cell_type": "code",
      "execution_count": 5,
      "metadata": {
        "id": "KAa6-4mvvy8-"
      },
      "outputs": [],
      "source": [
        "#self attention layer\n",
        "class SelfAttentionLayer_CNN(nn.Module):\n",
        "\n",
        "        def __init__(self, C , D_Q , D_V ):\n",
        "            super(SelfAttentionLayer_CNN, self).__init__()\n",
        "            self.C = C\n",
        "            self.D_Q = D_Q\n",
        "            self.D_V = D_V\n",
        "            self.conv_Q = nn.Conv2d(C, D_Q , kernel_size=1, stride=1, padding=0)\n",
        "            self.conv_K = nn.Conv2d(C, D_Q , kernel_size=1 , stride=1 , padding=0)\n",
        "            self.conv_V = nn.Conv2d(C, D_V , kernel_size=1 ,stride=1 ,padding=0)\n",
        "            self.conv_S = nn.Conv2d(D_V , C , kernel_size=1 ,stride=1 ,padding=0)\n",
        "\n",
        "        def forward(self , X):\n",
        "             size = X.size()\n",
        "             \n",
        "             #get query , key , value\n",
        "             Q = self.conv_Q(X)\n",
        "             K = self.conv_K(X)\n",
        "             V = self.conv_V(X)\n",
        " \n",
        "             Q = Q.view(size[0] , self.D_Q, size[2]*size[3])  # batch x D_q x (HW)\n",
        "             K = K.view(size[0], self.D_Q , size[2]*size[3])  # batch x D_q x (HW)\n",
        "             V = V.view(size[0] , self.D_V ,size[2]*size[3])  # batch x D_v x (HW)\n",
        "\n",
        "            # Calculate dot product for attention\n",
        "             dot_products =  torch.bmm(K.transpose(1,2), Q)/ torch.sqrt(torch.tensor(self.D_Q, dtype=torch.float32))  # batch x [ ( D_q x HW)T (D_q x HW )]\n",
        "\n",
        "             softmax = torch.nn.functional.softmax(dot_products, dim=2) # batch x HWxHW\n",
        "            \n",
        "            #Multiple with value\n",
        "             self_attention =  torch.bmm(V, softmax)  # batch x[ (D_v x HW)(D_V xHW)]\n",
        "\n",
        "             self_attention =  self_attention.view(size[0] ,self.D_V , size[2] ,size[3] ) # batch x D_v x H x W\n",
        "            \n",
        "             #again do convolution to get attention to input value\n",
        "             # Add residual connection \n",
        "             add_residual = self.conv_S(self_attention) + X #   batch x C x H x W\n",
        "\n",
        "             return  add_residual\n",
        "\n",
        "\n"
      ]
    },
    {
      "cell_type": "markdown",
      "metadata": {},
      "source": [
        "### CNN_SA Network archiecture\n",
        " CONV - > MAXPOOL -> 4x [ CONV -> SelfAttention] -> CONV -> GAP"
      ]
    },
    {
      "cell_type": "code",
      "execution_count": 6,
      "metadata": {
        "id": "hCbfpaHYvy8_"
      },
      "outputs": [],
      "source": [
        "#Object reconginition with CNN and SA\n",
        "\n",
        "class Object_reconginition_CNN_SA(nn.Module):\n",
        "    def __init__(self, C_in, C_in_SA, D_Q, D_V, N_C):\n",
        "        super(Object_reconginition_CNN_SA, self).__init__()\n",
        "\n",
        "        #First Convolution Layer\n",
        "        self.conv0 = nn.Conv2d(C_in, C_in_SA, kernel_size=3, stride=1, padding=0)\n",
        "        self.relu0 = nn.ReLU()\n",
        "\n",
        "        #Max Pool Layer\n",
        "        self.maxpool = nn.MaxPool2d(kernel_size=2, stride=2)\n",
        "\n",
        "        #Four blocks of Convolution followed by Self Attention Layer\n",
        "        self.module_list = nn.Sequential(*[nn.Sequential(\n",
        "\n",
        "            nn.Conv2d(C_in_SA, C_in_SA, kernel_size=3, stride=1, padding=0),\n",
        "            nn.ReLU(),\n",
        "\n",
        "            SelfAttentionLayer_CNN(C_in_SA, D_Q, D_V)\n",
        "        ) for i in range(4)])\n",
        "\n",
        "        #Last Convolution Layer\n",
        "        self.conv_last = nn.Conv2d(C_in_SA, N_C, kernel_size=3, stride=1, padding=0)\n",
        "        self.relu_last = nn.ReLU()\n",
        "\n",
        "        #GAP\n",
        "        self.global_avg_pool = nn.AdaptiveAvgPool2d(1)\n",
        "\n",
        "    #Forward Function that feeds the input to the network\n",
        "    def forward(self, X):\n",
        "        X = self.conv0(X)\n",
        "        X = self.relu0(X)\n",
        "        X = self.maxpool(X)\n",
        "        for module in self.module_list:\n",
        "            X = module(X)\n",
        "        X = self.conv_last(X)\n",
        "        X = self.relu_last(X)\n",
        "        X = self.global_avg_pool(X)\n",
        "        return X\n",
        "\n",
        "\n",
        "    # Train the model\n",
        "    def train_model(self, train_loader, learning_rate, epochs, batch_size,  device):\n",
        "        criterion = nn.CrossEntropyLoss()\n",
        "        optimizer = optim.Adam(self.parameters(), lr=learning_rate)\n",
        "        print(\"Training CNN-SA Network:\")\n",
        "\n",
        "        Train_loss_data = []\n",
        "\n",
        "        for epoch in range(epochs):\n",
        "            running_loss = 0.0\n",
        "            for i, data in enumerate(train_loader, 0):\n",
        "\n",
        "                #Save inputs in device\n",
        "                inputs, labels = data[0].to(device), data[1].to(device) \n",
        "\n",
        "                #Clear the gradient\n",
        "                optimizer.zero_grad()\n",
        "                outputs = self(inputs)  \n",
        "                loss = criterion(outputs.squeeze(), labels)  \n",
        "\n",
        "                #Go backward\n",
        "                loss.backward()\n",
        "                optimizer.step()\n",
        "                \n",
        "                running_loss += loss.item()\n",
        "\n",
        "            print('epoch : %d ------> loss: %.3f' %\n",
        "                  (epoch + 1, running_loss / len(train_loader)))\n",
        "            Train_loss_data.append(running_loss / len(train_loader))\n",
        "\n",
        "        return Train_loss_data\n"
      ]
    },
    {
      "cell_type": "code",
      "execution_count": 7,
      "metadata": {
        "colab": {
          "base_uri": "https://localhost:8080/"
        },
        "id": "M5zxgbqxvy8_",
        "outputId": "7f0b77fc-c3a2-4013-ecb9-a33bc73e058b"
      },
      "outputs": [
        {
          "name": "stdout",
          "output_type": "stream",
          "text": [
            "Training CNN-SA Network:\n",
            "epoch : 1 ------> loss: 2.214\n",
            "epoch : 2 ------> loss: 1.909\n",
            "epoch : 3 ------> loss: 1.348\n",
            "epoch : 4 ------> loss: 1.160\n",
            "epoch : 5 ------> loss: 1.049\n",
            "epoch : 6 ------> loss: 0.974\n",
            "epoch : 7 ------> loss: 0.922\n",
            "epoch : 8 ------> loss: 0.878\n",
            "epoch : 9 ------> loss: 0.842\n",
            "epoch : 10 ------> loss: 0.807\n"
          ]
        }
      ],
      "source": [
        "# Training constraints\n",
        "epochs = 10\n",
        "lr = 0.001\n",
        "device = torch.device(\"cuda\" if torch.cuda.is_available() else \"cpu\")\n",
        "\n",
        "# Initialize your model\n",
        "model = Object_reconginition_CNN_SA(C_in=3, C_in_SA=32, D_Q=16, D_V=16, N_C=10).to(device)\n",
        "\n",
        "#Train the model\n",
        "Train_loss_data1 = model.train_model(train_loader, lr, epochs, 128 , device=device)"
      ]
    },
    {
      "cell_type": "code",
      "execution_count": 8,
      "metadata": {
        "colab": {
          "base_uri": "https://localhost:8080/"
        },
        "id": "kDioJsB9Ey0a",
        "outputId": "d20c05e9-0c03-4e49-afdd-cdee3b2ea041"
      },
      "outputs": [
        {
          "name": "stdout",
          "output_type": "stream",
          "text": [
            "torch.Size([128])\n",
            "torch.Size([128])\n",
            "torch.Size([128])\n",
            "torch.Size([128])\n",
            "torch.Size([128])\n",
            "torch.Size([128])\n",
            "torch.Size([128])\n",
            "torch.Size([128])\n",
            "torch.Size([128])\n",
            "torch.Size([128])\n",
            "torch.Size([128])\n",
            "torch.Size([128])\n",
            "torch.Size([128])\n",
            "torch.Size([128])\n",
            "torch.Size([128])\n",
            "torch.Size([128])\n",
            "torch.Size([128])\n",
            "torch.Size([128])\n",
            "torch.Size([128])\n",
            "torch.Size([128])\n",
            "torch.Size([128])\n",
            "torch.Size([128])\n",
            "torch.Size([128])\n",
            "torch.Size([128])\n",
            "torch.Size([128])\n",
            "torch.Size([128])\n",
            "torch.Size([128])\n",
            "torch.Size([128])\n",
            "torch.Size([128])\n",
            "torch.Size([128])\n",
            "torch.Size([128])\n",
            "torch.Size([128])\n",
            "torch.Size([128])\n",
            "torch.Size([128])\n",
            "torch.Size([128])\n",
            "torch.Size([128])\n",
            "torch.Size([128])\n",
            "torch.Size([128])\n",
            "torch.Size([128])\n",
            "torch.Size([128])\n",
            "torch.Size([128])\n",
            "torch.Size([128])\n",
            "torch.Size([128])\n",
            "torch.Size([128])\n",
            "torch.Size([128])\n",
            "torch.Size([128])\n",
            "torch.Size([128])\n",
            "torch.Size([128])\n",
            "torch.Size([128])\n",
            "torch.Size([128])\n",
            "torch.Size([128])\n",
            "torch.Size([128])\n",
            "torch.Size([128])\n",
            "torch.Size([128])\n",
            "torch.Size([128])\n",
            "torch.Size([128])\n",
            "torch.Size([128])\n",
            "torch.Size([128])\n",
            "torch.Size([128])\n",
            "torch.Size([128])\n",
            "torch.Size([128])\n",
            "torch.Size([128])\n",
            "torch.Size([128])\n",
            "torch.Size([128])\n",
            "torch.Size([128])\n",
            "torch.Size([128])\n",
            "torch.Size([128])\n",
            "torch.Size([128])\n",
            "torch.Size([128])\n",
            "torch.Size([128])\n",
            "torch.Size([128])\n",
            "torch.Size([128])\n",
            "torch.Size([128])\n",
            "torch.Size([128])\n",
            "torch.Size([128])\n",
            "torch.Size([128])\n",
            "torch.Size([128])\n",
            "torch.Size([128])\n",
            "torch.Size([16])\n",
            "Accuracy on the test dataset: 69.29 %\n"
          ]
        }
      ],
      "source": [
        "AC1 = evaluate(model,test_loader)"
      ]
    },
    {
      "cell_type": "markdown",
      "metadata": {},
      "source": [
        "## 2. Object Recognition with Vision Transformer\n",
        "This model is based on encoder only transformer \n",
        " "
      ]
    },
    {
      "cell_type": "markdown",
      "metadata": {},
      "source": [
        "**Multi Headed Attention Layer**"
      ]
    },
    {
      "cell_type": "code",
      "execution_count": 9,
      "metadata": {},
      "outputs": [],
      "source": [
        "class MHA_layer(nn.Module):\n",
        "    def __init__(self, input_dim , N_heads , D_Q , D_V ):\n",
        "        super(MHA_layer, self).__init__()\n",
        "        self.N_heads = N_heads\n",
        "        self.input_dim = input_dim\n",
        "        self.D_Q = D_Q\n",
        "        self.D_V = D_V\n",
        "        self.WQ = nn.Linear(input_dim, D_Q * N_heads)\n",
        "        self.WK = nn.Linear(input_dim, D_Q * N_heads)\n",
        "        self.WV = nn.Linear(input_dim, D_V * N_heads)\n",
        "        self.OUT = nn.Linear(D_V * N_heads , input_dim)\n",
        "\n",
        "    def forward(self ,x):\n",
        "        size = x.size() # batch x N x input_dim\n",
        "        query = self.WQ(x).view(size[0], size[1] , self.N_heads,  self.D_Q ).transpose(1, 2) # batch x n_heads x N x D_Q\n",
        "        key   = self.WK(x).view(size[0] , size[1] , self.N_heads , self.D_Q).transpose(1, 2) # batch x n_heads x N x D_K\n",
        "        value = self.WV(x).view(size[0] , size[1] , self.N_heads , self.D_V).transpose(1, 2) # batch x n_heads x N x D_K\n",
        "\n",
        "        # Attention calculation same as normal self attention by small varaition because of multiple heads\n",
        "        dot_products = torch.matmul(query , key.transpose(-2,-1))/ torch.sqrt(torch.tensor(self.D_Q, dtype=torch.float32))\n",
        "\n",
        "        softmax = F.softmax(dot_products,dim=-1)\n",
        "\n",
        "        self_attention = torch.matmul(softmax,value)\n",
        "           \n",
        "        self_attention_concatnated = self_attention.transpose(1,2)\n",
        "\n",
        "        # transpose operation may have introduced non-contigous memory \n",
        "        self_attention_concatnated = self_attention_concatnated.contiguous()\n",
        "\n",
        "        #concatnate the values from the heads\n",
        "        self_attention_concatnated = self_attention_concatnated.view(size[0],size[1],-1)\n",
        "\n",
        "        output = self.OUT(self_attention_concatnated)\n",
        "\n",
        "        return output"
      ]
    },
    {
      "cell_type": "markdown",
      "metadata": {},
      "source": [
        "**Encoder Block**\n",
        "A single encoder block consists of the following layers\n",
        "*  Multi-Head Attention Layer\n",
        "*  Residual Connection\n",
        "*  Normalization Layer\n",
        "*  MLP\n",
        "*  Residual Connection\n",
        "*  Normalization Layer"
      ]
    },
    {
      "cell_type": "code",
      "execution_count": 10,
      "metadata": {},
      "outputs": [],
      "source": [
        "class Encoder_Block(nn.Module):\n",
        "    def __init__(self, input_dim ,inter_dim, N_heads , D_Q , D_V):\n",
        "        super(Encoder_Block, self).__init__()\n",
        "\n",
        "        #MHA Layer\n",
        "        self.MHA = MHA_layer(input_dim, N_heads, D_Q, D_V)\n",
        "\n",
        "        #Layer Normalization\n",
        "        self.Norm_layer1 = nn.LayerNorm(input_dim)\n",
        "\n",
        "        #Feed Forward \n",
        "        self.FF = nn.Sequential(\n",
        "            nn.Linear(input_dim,inter_dim),\n",
        "            nn.ReLU(),\n",
        "            nn.Linear(inter_dim,input_dim),\n",
        "            nn.ReLU()\n",
        "        )\n",
        "\n",
        "        #Layer Normalization\n",
        "        self.NormLayer2 = nn.LayerNorm(input_dim)\n",
        "\n",
        "    def forward(self ,x):\n",
        "        #get attention\n",
        "        Attention = self.MHA(x)\n",
        "\n",
        "        #add residual and Normalize\n",
        "        Residual_add = self.Norm_layer1( x+ Attention)\n",
        "\n",
        "        #Process through FF\n",
        "        Intermediate = self.FF(Residual_add)\n",
        "\n",
        "        #add residual and Normalize\n",
        "        return self.NormLayer2(Intermediate + Residual_add)\n",
        "    "
      ]
    },
    {
      "cell_type": "markdown",
      "metadata": {},
      "source": [
        "### VIT Architecture\n",
        "(Patching &Embbeding) -> Layer Normalization -> 4x[Encode Block] -> classifier"
      ]
    },
    {
      "cell_type": "code",
      "execution_count": 11,
      "metadata": {},
      "outputs": [],
      "source": [
        "class Object_reconginition_VIT(nn.Module):\n",
        "    def __init__(self, C_in, patch_size,num_patches,Embed_dim, N_C):\n",
        "        super(Object_reconginition_VIT, self).__init__()\n",
        "\n",
        "        #Patching and Embedding\n",
        "        self.patch_size = patch_size\n",
        "        self.flattened_size = C_in * patch_size * patch_size\n",
        "        self.cls_token = nn.Parameter(torch.rand(self.flattened_size))\n",
        "        self.pos_encode = nn.Parameter(torch.rand(1,num_patches+1,self.flattened_size))\n",
        "        self.Embbedding_layer = nn.Linear(C_in * patch_size * patch_size, Embed_dim)\n",
        "\n",
        "        # Normalize Layer\n",
        "        self.Norm = nn.LayerNorm(Embed_dim)\n",
        "\n",
        "        # 4 Encoder Blocks\n",
        "        self.List = nn.ModuleList([\n",
        "            Encoder_Block(input_dim= Embed_dim, inter_dim= (Embed_dim * 2), N_heads=4, D_Q=16, D_V=16)\n",
        "            for _ in range(4)\n",
        "        ])\n",
        "\n",
        "        #Final classfier for the class token \n",
        "        self.classfier = nn.Sequential(\n",
        "            nn.LayerNorm(Embed_dim),\n",
        "            nn.Linear(Embed_dim , N_C),\n",
        "            nn.ReLU()\n",
        "        )\n",
        "    \n",
        "    #Reshape into Patches\n",
        "    def patching(self, x):\n",
        "        B, C, H, W = x.size()\n",
        "        x = nn.Unfold(kernel_size=self.patch_size, stride=self.patch_size,padding=0)(x)\n",
        "        x = x.view(B, C, self.patch_size, self.patch_size, -1).permute(0, 4, 1, 2, 3)\n",
        "        return x\n",
        "   \n",
        "    #Add Position encoding and put class token at first of the image\n",
        "    def prepare(self , x):\n",
        "        batch_size = x.size()[0]\n",
        "        x = self.patching(x)\n",
        "        x = x.flatten(2)\n",
        "        cls_add_batch_wise = self.cls_token.repeat(batch_size, 1, 1)\n",
        "        x = torch.cat((cls_add_batch_wise, x), dim=1)\n",
        "        x = x + self.pos_encode\n",
        "        x = self.Embbedding_layer(x)\n",
        "        return x\n",
        "    \n",
        "    #Forward function \n",
        "    def forward(self, x):\n",
        "        x = self.prepare(x)\n",
        "        x = self.Norm(x)\n",
        "        for module in self.List:\n",
        "            x = module(x)\n",
        "        x = self.classfier(x)\n",
        "\n",
        "        #Return output for class Token\n",
        "        return x[:,0]\n",
        "\n",
        "    def train_model(self, train_loader, learning_rate, epochs, batch_size,  device):\n",
        "        criterion = nn.CrossEntropyLoss()\n",
        "        optimizer = optim.Adam(self.parameters(), lr=learning_rate)\n",
        "\n",
        "        print(\"Training VIT Transformer:\")\n",
        "        Train_loss_data = [] \n",
        "        for epoch in range(epochs):\n",
        "            running_loss = 0.0\n",
        "            for i, data in enumerate(train_loader, 0):\n",
        "\n",
        "                #Save inputs in device\n",
        "                inputs, labels = data[0].to(device), data[1].to(device) \n",
        "\n",
        "                #Clear the gradient\n",
        "                optimizer.zero_grad()\n",
        "                outputs = self(inputs)  \n",
        "                loss = criterion(outputs.squeeze(), labels)  \n",
        "\n",
        "                #Go backward\n",
        "                loss.backward()\n",
        "                optimizer.step()\n",
        "                \n",
        "                running_loss += loss.item()\n",
        "\n",
        "            print('epoch : %d ------> loss: %.3f' %\n",
        "                  (epoch + 1, running_loss / len(train_loader)))\n",
        "            Train_loss_data.append(running_loss / len(train_loader))\n",
        "\n",
        "        return Train_loss_data\n",
        "    "
      ]
    },
    {
      "cell_type": "code",
      "execution_count": 12,
      "metadata": {},
      "outputs": [
        {
          "name": "stdout",
          "output_type": "stream",
          "text": [
            "Training VIT Transformer:\n",
            "epoch : 1 ------> loss: 1.910\n",
            "epoch : 2 ------> loss: 1.480\n",
            "epoch : 3 ------> loss: 1.304\n",
            "epoch : 4 ------> loss: 1.214\n",
            "epoch : 5 ------> loss: 1.145\n",
            "epoch : 6 ------> loss: 1.094\n",
            "epoch : 7 ------> loss: 1.050\n",
            "epoch : 8 ------> loss: 1.017\n",
            "epoch : 9 ------> loss: 0.977\n",
            "epoch : 10 ------> loss: 0.947\n"
          ]
        }
      ],
      "source": [
        "model2 = Object_reconginition_VIT(C_in=3, patch_size=2 , num_patches=256, Embed_dim=32, N_C=10)\n",
        "model2.to(device)\n",
        "Train_loss_data2 = model2.train_model(train_loader, 0.001, 10, 128 , device)"
      ]
    },
    {
      "cell_type": "code",
      "execution_count": 13,
      "metadata": {},
      "outputs": [
        {
          "name": "stdout",
          "output_type": "stream",
          "text": [
            "torch.Size([128])\n",
            "torch.Size([128])\n",
            "torch.Size([128])\n",
            "torch.Size([128])\n",
            "torch.Size([128])\n",
            "torch.Size([128])\n",
            "torch.Size([128])\n",
            "torch.Size([128])\n",
            "torch.Size([128])\n",
            "torch.Size([128])\n",
            "torch.Size([128])\n",
            "torch.Size([128])\n",
            "torch.Size([128])\n",
            "torch.Size([128])\n",
            "torch.Size([128])\n",
            "torch.Size([128])\n",
            "torch.Size([128])\n",
            "torch.Size([128])\n",
            "torch.Size([128])\n",
            "torch.Size([128])\n",
            "torch.Size([128])\n",
            "torch.Size([128])\n",
            "torch.Size([128])\n",
            "torch.Size([128])\n",
            "torch.Size([128])\n",
            "torch.Size([128])\n",
            "torch.Size([128])\n",
            "torch.Size([128])\n",
            "torch.Size([128])\n",
            "torch.Size([128])\n",
            "torch.Size([128])\n",
            "torch.Size([128])\n",
            "torch.Size([128])\n",
            "torch.Size([128])\n",
            "torch.Size([128])\n",
            "torch.Size([128])\n",
            "torch.Size([128])\n",
            "torch.Size([128])\n",
            "torch.Size([128])\n",
            "torch.Size([128])\n",
            "torch.Size([128])\n",
            "torch.Size([128])\n",
            "torch.Size([128])\n",
            "torch.Size([128])\n",
            "torch.Size([128])\n",
            "torch.Size([128])\n",
            "torch.Size([128])\n",
            "torch.Size([128])\n",
            "torch.Size([128])\n",
            "torch.Size([128])\n",
            "torch.Size([128])\n",
            "torch.Size([128])\n",
            "torch.Size([128])\n",
            "torch.Size([128])\n",
            "torch.Size([128])\n",
            "torch.Size([128])\n",
            "torch.Size([128])\n",
            "torch.Size([128])\n",
            "torch.Size([128])\n",
            "torch.Size([128])\n",
            "torch.Size([128])\n",
            "torch.Size([128])\n",
            "torch.Size([128])\n",
            "torch.Size([128])\n",
            "torch.Size([128])\n",
            "torch.Size([128])\n",
            "torch.Size([128])\n",
            "torch.Size([128])\n",
            "torch.Size([128])\n",
            "torch.Size([128])\n",
            "torch.Size([128])\n",
            "torch.Size([128])\n",
            "torch.Size([128])\n",
            "torch.Size([128])\n",
            "torch.Size([128])\n",
            "torch.Size([128])\n",
            "torch.Size([128])\n",
            "torch.Size([128])\n",
            "torch.Size([16])\n",
            "Accuracy on the test dataset: 63.28 %\n"
          ]
        }
      ],
      "source": [
        "AC2 = evaluate(model2,test_loader)"
      ]
    },
    {
      "cell_type": "code",
      "execution_count": 14,
      "metadata": {},
      "outputs": [
        {
          "name": "stdout",
          "output_type": "stream",
          "text": [
            "49290\n",
            "54914\n"
          ]
        }
      ],
      "source": [
        "\n",
        "def count_parameters(model):\n",
        "    return sum(p.numel() for p in model.parameters() if p.requires_grad)\n",
        "\n",
        "print(count_parameters(model))\n",
        "print(count_parameters(model2))"
      ]
    },
    {
      "cell_type": "markdown",
      "metadata": {},
      "source": [
        "## Observations"
      ]
    },
    {
      "cell_type": "markdown",
      "metadata": {},
      "source": [
        "#### 1) Lets first observe the training Loss"
      ]
    },
    {
      "cell_type": "code",
      "execution_count": 15,
      "metadata": {},
      "outputs": [
        {
          "data": {
            "image/png": "[encoded data removed]",
            "text/plain": [
              "<Figure size 640x480 with 1 Axes>"
            ]
          },
          "metadata": {},
          "output_type": "display_data"
        }
      ],
      "source": [
        "plt.plot(range(1, epochs + 1), Train_loss_data1, label='CNN-SA')\n",
        "plt.plot(range(1,epochs + 1 ),Train_loss_data2 ,label='VIT')\n",
        "plt.title('Training Loss Over Epochs')\n",
        "plt.xlabel('Epochs')\n",
        "plt.ylabel('Loss')\n",
        "plt.legend()\n",
        "plt.show()"
      ]
    },
    {
      "cell_type": "markdown",
      "metadata": {},
      "source": [
        "* CNN-SA is performs slightly better than VIT at later epochs of the training \n",
        "* Both has comparable No of parameters\n",
        "* The following resaons can give the insights \n",
        "  - CNN-SA captures the spatial/local patterns \n",
        "  - CNN-SA and VIT might need different optimizers\n",
        "  - VIT might need more embbeding dimensions to be on par with CNN-SA\n",
        "  - VIT can improve compared to CNN-SA if given suitable EMBED_DIM\n",
        "  - VIT can perform better on larger datasets where attention is heavily required"
      ]
    },
    {
      "cell_type": "markdown",
      "metadata": {},
      "source": [
        "#### 2) Lets first observe the Accuracy"
      ]
    },
    {
      "cell_type": "code",
      "execution_count": 16,
      "metadata": {},
      "outputs": [
        {
          "name": "stdout",
          "output_type": "stream",
          "text": [
            "Accuracy of CNN-SA :  69.28999999999999\n",
            "Accuracy of VIT :  63.28\n"
          ]
        }
      ],
      "source": [
        "print(\"Accuracy of CNN-SA : \",AC1)\n",
        "print(\"Accuracy of VIT : \",AC2)"
      ]
    },
    {
      "cell_type": "markdown",
      "metadata": {},
      "source": [
        "* Same as Training loss \n",
        "* Both are performing better than Normal FF Networks\n",
        "* Can be improved with enough training cycles"
      ]
    }
  ],
  "metadata": {
    "accelerator": "GPU",
    "colab": {
      "gpuType": "T4",
      "provenance": []
    },
    "kernelspec": {
      "display_name": "Python 3",
      "name": "python3"
    },
    "language_info": {
      "codemirror_mode": {
        "name": "ipython",
        "version": 3
      },
      "file_extension": ".py",
      "mimetype": "text/x-python",
      "name": "python",
      "nbconvert_exporter": "python",
      "pygments_lexer": "ipython3",
      "version": "3.11.3"
    }
  },
  "nbformat": 4,
  "nbformat_minor": 0
}
